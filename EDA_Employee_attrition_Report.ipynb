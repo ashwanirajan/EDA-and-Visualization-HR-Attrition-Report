{
  "nbformat": 4,
  "nbformat_minor": 0,
  "metadata": {
    "kernelspec": {
      "display_name": "Python 3",
      "language": "python",
      "name": "python3"
    },
    "language_info": {
      "codemirror_mode": {
        "name": "ipython",
        "version": 3
      },
      "file_extension": ".py",
      "mimetype": "text/x-python",
      "name": "python",
      "nbconvert_exporter": "python",
      "pygments_lexer": "ipython3",
      "version": "3.8.5"
    },
    "colab": {
      "name": "Final_Project_AshwaniRajan.ipynb",
      "provenance": []
    }
  },
  "cells": [
    {
      "cell_type": "markdown",
      "metadata": {
        "id": "TtMseJe7sPQT"
      },
      "source": [
        "# Final Report Code"
      ]
    },
    {
      "cell_type": "markdown",
      "metadata": {
        "id": "33DUVDF8sPQX"
      },
      "source": [
        "## Basic EDA"
      ]
    },
    {
      "cell_type": "code",
      "metadata": {
        "id": "pkhuJkDFsPQX"
      },
      "source": [
        "import numpy as np\n",
        "import pandas as pd\n",
        "import matplotlib.pyplot as plt\n",
        "from matplotlib import colors\n",
        "import matplotlib.patches as patches"
      ],
      "execution_count": null,
      "outputs": []
    },
    {
      "cell_type": "markdown",
      "metadata": {
        "id": "ENCQmvK6sPQZ"
      },
      "source": [
        "## COLORS and SCHEMES"
      ]
    },
    {
      "cell_type": "code",
      "metadata": {
        "id": "OXUKlFQDsPQZ"
      },
      "source": [
        "BGCOLOR = '#ebeef0'\n",
        "COLORS = [ \"#244685\", \"#f08832\",'#298c57']\n",
        "heading = '#1c1c1b'\n",
        "bar_green = '#759c8f'\n",
        "bar_retention = '#3b5e75'\n",
        "bar_attrition = '#a85964'\n",
        "\n",
        "c1_alpha = 0.6\n",
        "c2_alpha = 0.9\n",
        "c3_alpha = 0.6"
      ],
      "execution_count": null,
      "outputs": []
    },
    {
      "cell_type": "code",
      "metadata": {
        "id": "EaK235I6sPQZ",
        "outputId": "86430bb7-6cf5-43f1-ed77-7c67df39d228"
      },
      "source": [
        "df_hr = pd.read_excel(\"HR_Employee_Data.xlsx\")\n",
        "df_hr.set_index('Emp_Id')\n",
        "df_hr.head()"
      ],
      "execution_count": null,
      "outputs": [
        {
          "data": {
            "text/html": [
              "<div>\n",
              "<style scoped>\n",
              "    .dataframe tbody tr th:only-of-type {\n",
              "        vertical-align: middle;\n",
              "    }\n",
              "\n",
              "    .dataframe tbody tr th {\n",
              "        vertical-align: top;\n",
              "    }\n",
              "\n",
              "    .dataframe thead th {\n",
              "        text-align: right;\n",
              "    }\n",
              "</style>\n",
              "<table border=\"1\" class=\"dataframe\">\n",
              "  <thead>\n",
              "    <tr style=\"text-align: right;\">\n",
              "      <th></th>\n",
              "      <th>Emp_Id</th>\n",
              "      <th>satisfaction_level</th>\n",
              "      <th>last_evaluation</th>\n",
              "      <th>number_project</th>\n",
              "      <th>average_montly_hours</th>\n",
              "      <th>time_spend_company</th>\n",
              "      <th>Work_accident</th>\n",
              "      <th>left</th>\n",
              "      <th>promotion_last_5years</th>\n",
              "      <th>Department</th>\n",
              "      <th>salary</th>\n",
              "    </tr>\n",
              "  </thead>\n",
              "  <tbody>\n",
              "    <tr>\n",
              "      <th>0</th>\n",
              "      <td>IND02438</td>\n",
              "      <td>0.38</td>\n",
              "      <td>0.53</td>\n",
              "      <td>2</td>\n",
              "      <td>157</td>\n",
              "      <td>3</td>\n",
              "      <td>0</td>\n",
              "      <td>1</td>\n",
              "      <td>0</td>\n",
              "      <td>sales</td>\n",
              "      <td>low</td>\n",
              "    </tr>\n",
              "    <tr>\n",
              "      <th>1</th>\n",
              "      <td>IND28133</td>\n",
              "      <td>0.80</td>\n",
              "      <td>0.86</td>\n",
              "      <td>5</td>\n",
              "      <td>262</td>\n",
              "      <td>6</td>\n",
              "      <td>0</td>\n",
              "      <td>1</td>\n",
              "      <td>0</td>\n",
              "      <td>sales</td>\n",
              "      <td>medium</td>\n",
              "    </tr>\n",
              "    <tr>\n",
              "      <th>2</th>\n",
              "      <td>IND07164</td>\n",
              "      <td>0.11</td>\n",
              "      <td>0.88</td>\n",
              "      <td>7</td>\n",
              "      <td>272</td>\n",
              "      <td>4</td>\n",
              "      <td>0</td>\n",
              "      <td>1</td>\n",
              "      <td>0</td>\n",
              "      <td>sales</td>\n",
              "      <td>medium</td>\n",
              "    </tr>\n",
              "    <tr>\n",
              "      <th>3</th>\n",
              "      <td>IND30478</td>\n",
              "      <td>0.72</td>\n",
              "      <td>0.87</td>\n",
              "      <td>5</td>\n",
              "      <td>223</td>\n",
              "      <td>5</td>\n",
              "      <td>0</td>\n",
              "      <td>1</td>\n",
              "      <td>0</td>\n",
              "      <td>sales</td>\n",
              "      <td>low</td>\n",
              "    </tr>\n",
              "    <tr>\n",
              "      <th>4</th>\n",
              "      <td>IND24003</td>\n",
              "      <td>0.37</td>\n",
              "      <td>0.52</td>\n",
              "      <td>2</td>\n",
              "      <td>159</td>\n",
              "      <td>3</td>\n",
              "      <td>0</td>\n",
              "      <td>1</td>\n",
              "      <td>0</td>\n",
              "      <td>sales</td>\n",
              "      <td>low</td>\n",
              "    </tr>\n",
              "  </tbody>\n",
              "</table>\n",
              "</div>"
            ],
            "text/plain": [
              "     Emp_Id  satisfaction_level  last_evaluation  number_project  \\\n",
              "0  IND02438                0.38             0.53               2   \n",
              "1  IND28133                0.80             0.86               5   \n",
              "2  IND07164                0.11             0.88               7   \n",
              "3  IND30478                0.72             0.87               5   \n",
              "4  IND24003                0.37             0.52               2   \n",
              "\n",
              "   average_montly_hours  time_spend_company  Work_accident  left  \\\n",
              "0                   157                   3              0     1   \n",
              "1                   262                   6              0     1   \n",
              "2                   272                   4              0     1   \n",
              "3                   223                   5              0     1   \n",
              "4                   159                   3              0     1   \n",
              "\n",
              "   promotion_last_5years Department  salary  \n",
              "0                      0      sales     low  \n",
              "1                      0      sales  medium  \n",
              "2                      0      sales  medium  \n",
              "3                      0      sales     low  \n",
              "4                      0      sales     low  "
            ]
          },
          "execution_count": 1100,
          "metadata": {},
          "output_type": "execute_result"
        }
      ]
    },
    {
      "cell_type": "code",
      "metadata": {
        "id": "LK5gbp0WsPQb",
        "outputId": "4bb96d41-b8b1-4291-bf04-ab61408b88a2"
      },
      "source": [
        "df_hr_avg = df_hr.groupby('Department').median()['satisfaction_level']\n",
        "df_hr_avg"
      ],
      "execution_count": null,
      "outputs": [
        {
          "data": {
            "text/plain": [
              "Department\n",
              "IT             0.660\n",
              "RandD          0.650\n",
              "accounting     0.610\n",
              "hr             0.610\n",
              "management     0.655\n",
              "marketing      0.640\n",
              "product_mng    0.640\n",
              "sales          0.640\n",
              "support        0.650\n",
              "technical      0.640\n",
              "Name: satisfaction_level, dtype: float64"
            ]
          },
          "execution_count": 1101,
          "metadata": {},
          "output_type": "execute_result"
        }
      ]
    },
    {
      "cell_type": "code",
      "metadata": {
        "id": "xjqTXmITsPQb"
      },
      "source": [
        "Dept = {\"Department\":{'hr': 'Human \\nResources',\n",
        " 'accounting': 'Accounting',\n",
        " 'technical': 'Technical',\n",
        " 'support': 'Support',\n",
        " 'sales': 'Sales',\n",
        " 'marketing': 'Marketing',\n",
        " 'IT': 'Information \\nTechnology',\n",
        " 'product_mng': 'Product \\nManagement',\n",
        " 'RandD': 'Research & \\nDevelopment',\n",
        " 'management': 'Management'}}\n",
        "df_hr = df_hr.replace(Dept)"
      ],
      "execution_count": null,
      "outputs": []
    },
    {
      "cell_type": "code",
      "metadata": {
        "id": "e6CSWQk-sPQb"
      },
      "source": [
        "df1 = pd.crosstab(df_hr['Department'], df_hr['left'], normalize = 'index')\n",
        "df1 = df1.sort_values(1, ascending=False)"
      ],
      "execution_count": null,
      "outputs": []
    },
    {
      "cell_type": "code",
      "metadata": {
        "id": "e_tJEfw1sPQc"
      },
      "source": [
        "df2 = pd.crosstab(df_hr['Department'], df_hr['salary'], normalize = 'index')\n",
        "df2 = df2.sort_values('high', ascending=False)"
      ],
      "execution_count": null,
      "outputs": []
    },
    {
      "cell_type": "code",
      "metadata": {
        "id": "z8qKW9TDsPQc"
      },
      "source": [
        "df_dept_sat = df_hr[['Department', 'satisfaction_level']].copy()"
      ],
      "execution_count": null,
      "outputs": []
    },
    {
      "cell_type": "code",
      "metadata": {
        "id": "3elW1Y6ZsPQc"
      },
      "source": [
        "conditions = [\n",
        "    (df_dept_sat['satisfaction_level'] <= 0.25),\n",
        "    (df_dept_sat['satisfaction_level'] > 0.25) & (df_dept_sat['satisfaction_level'] <= 0.50),\n",
        "    (df_dept_sat['satisfaction_level'] > 0.50) & (df_dept_sat['satisfaction_level'] <= 0.75),\n",
        "    (df_dept_sat['satisfaction_level'] > 0.75)\n",
        "    ]\n",
        "\n",
        "values = ['happy','satisfied', 'not_satisfied', 'sad']\n",
        "df_dept_sat['satisfaction'] =  np.select(conditions, values[::-1])"
      ],
      "execution_count": null,
      "outputs": []
    },
    {
      "cell_type": "code",
      "metadata": {
        "id": "wUaHwyu9sPQd",
        "outputId": "392f8fce-0ae7-48a2-a577-5cc4b30d2596"
      },
      "source": [
        "df_dept_sat.head()"
      ],
      "execution_count": null,
      "outputs": [
        {
          "data": {
            "text/html": [
              "<div>\n",
              "<style scoped>\n",
              "    .dataframe tbody tr th:only-of-type {\n",
              "        vertical-align: middle;\n",
              "    }\n",
              "\n",
              "    .dataframe tbody tr th {\n",
              "        vertical-align: top;\n",
              "    }\n",
              "\n",
              "    .dataframe thead th {\n",
              "        text-align: right;\n",
              "    }\n",
              "</style>\n",
              "<table border=\"1\" class=\"dataframe\">\n",
              "  <thead>\n",
              "    <tr style=\"text-align: right;\">\n",
              "      <th></th>\n",
              "      <th>Department</th>\n",
              "      <th>satisfaction_level</th>\n",
              "      <th>satisfaction</th>\n",
              "    </tr>\n",
              "  </thead>\n",
              "  <tbody>\n",
              "    <tr>\n",
              "      <th>0</th>\n",
              "      <td>Sales</td>\n",
              "      <td>0.38</td>\n",
              "      <td>not_satisfied</td>\n",
              "    </tr>\n",
              "    <tr>\n",
              "      <th>1</th>\n",
              "      <td>Sales</td>\n",
              "      <td>0.80</td>\n",
              "      <td>happy</td>\n",
              "    </tr>\n",
              "    <tr>\n",
              "      <th>2</th>\n",
              "      <td>Sales</td>\n",
              "      <td>0.11</td>\n",
              "      <td>sad</td>\n",
              "    </tr>\n",
              "    <tr>\n",
              "      <th>3</th>\n",
              "      <td>Sales</td>\n",
              "      <td>0.72</td>\n",
              "      <td>satisfied</td>\n",
              "    </tr>\n",
              "    <tr>\n",
              "      <th>4</th>\n",
              "      <td>Sales</td>\n",
              "      <td>0.37</td>\n",
              "      <td>not_satisfied</td>\n",
              "    </tr>\n",
              "  </tbody>\n",
              "</table>\n",
              "</div>"
            ],
            "text/plain": [
              "  Department  satisfaction_level   satisfaction\n",
              "0      Sales                0.38  not_satisfied\n",
              "1      Sales                0.80          happy\n",
              "2      Sales                0.11            sad\n",
              "3      Sales                0.72      satisfied\n",
              "4      Sales                0.37  not_satisfied"
            ]
          },
          "execution_count": 1107,
          "metadata": {},
          "output_type": "execute_result"
        }
      ]
    },
    {
      "cell_type": "code",
      "metadata": {
        "id": "wdxZSHL_sPQd"
      },
      "source": [
        "df3 = pd.crosstab(df_dept_sat['Department'], df_dept_sat['satisfaction'], normalize = 'index')\n",
        "df3['contented'] = df3['happy'] + df3['satisfied']\n",
        "df3 = df3.sort_values('contented', ascending = True)\n",
        "\n",
        "happy = df3['happy']\n",
        "satisfied = df3['satisfied']\n",
        "not_satisfied = df3['not_satisfied']\n",
        "sad = df3['sad']\n",
        "contented = df3['contented']"
      ],
      "execution_count": null,
      "outputs": []
    },
    {
      "cell_type": "code",
      "metadata": {
        "id": "uZQpvzbBsPQd"
      },
      "source": [
        "contented = contented.reindex(index = df1.index)"
      ],
      "execution_count": null,
      "outputs": []
    },
    {
      "cell_type": "code",
      "metadata": {
        "id": "uQQdDi6lsPQd"
      },
      "source": [
        "index_list = list(df1.index)"
      ],
      "execution_count": null,
      "outputs": []
    },
    {
      "cell_type": "code",
      "metadata": {
        "id": "1rnDmV6zsPQe",
        "outputId": "388243e5-62f4-4654-c372-a2c9c1639e0c"
      },
      "source": [
        "index_list"
      ],
      "execution_count": null,
      "outputs": [
        {
          "data": {
            "text/plain": [
              "['Human \\nResources',\n",
              " 'Accounting',\n",
              " 'Technical',\n",
              " 'Support',\n",
              " 'Sales',\n",
              " 'Marketing',\n",
              " 'Information \\nTechnology',\n",
              " 'Product \\nManagement',\n",
              " 'Research & \\nDevelopment',\n",
              " 'Management']"
            ]
          },
          "execution_count": 605,
          "metadata": {},
          "output_type": "execute_result"
        }
      ]
    },
    {
      "cell_type": "code",
      "metadata": {
        "id": "EtYfw6besPQe",
        "outputId": "b599eb7a-2b87-4ab9-96fe-14123ec6a240"
      },
      "source": [
        "index_list[7] = 'Product \\nManagement'\n",
        "index_list[8] = 'R & D'\n",
        "index_list"
      ],
      "execution_count": null,
      "outputs": [
        {
          "data": {
            "text/plain": [
              "['Human \\nResources',\n",
              " 'Accounting',\n",
              " 'Technical',\n",
              " 'Support',\n",
              " 'Sales',\n",
              " 'Marketing',\n",
              " 'Information \\nTechnology',\n",
              " 'Product \\nManagement',\n",
              " 'R & D',\n",
              " 'Management']"
            ]
          },
          "execution_count": 606,
          "metadata": {},
          "output_type": "execute_result"
        }
      ]
    },
    {
      "cell_type": "markdown",
      "metadata": {
        "id": "98RRlIYRsPQe"
      },
      "source": [
        "##  Figure 5: Comparison of attrition rate and job satisfaction for each department"
      ]
    },
    {
      "cell_type": "code",
      "metadata": {
        "id": "f4n8nEuIsPQe",
        "outputId": "a9de41a8-b89c-4f00-c0ae-a9b203b36e1f"
      },
      "source": [
        "fig, ax = plt.subplots(1,2,figsize=(12,7), sharey=True)\n",
        "ax = ax.flatten()\n",
        "\n",
        "ax[0].barh(df1.index, df1[1], color = bar_green, height = 0.6, label = 'Attrition Rate', alpha = 0.6 )\n",
        "ax[0].set_xlim(0.0,0.4)\n",
        "ax[1].barh(np.arange(10), contented, color = bar_green , height = 0.6, label = 'Satisfaction level', alpha = 0.6 )\n",
        "\n",
        "ax[1].set_xlim(0.4,0.8)\n",
        "\n",
        "ax[0].invert_xaxis()\n",
        "ax[0].yaxis.tick_right()\n",
        "\n",
        "fig.patch.set_facecolor('white')\n",
        "ax[0].set_facecolor(BGCOLOR)\n",
        "ax[1].set_facecolor(BGCOLOR)\n",
        "\n",
        "ax[1].spines['left'].set_visible(False)\n",
        "ax[1].spines['right'].set_visible(False)\n",
        "ax[1].spines['bottom'].set_visible(False)\n",
        "ax[1].spines['top'].set_visible(False)\n",
        "ax[0].spines['left'].set_visible(False)\n",
        "ax[0].spines['right'].set_visible(False)\n",
        "ax[0].spines['bottom'].set_visible(False)\n",
        "ax[0].spines['top'].set_visible(False)\n",
        "\n",
        "for i, tick in enumerate(ax[0].yaxis.get_majorticklabels()):\n",
        "    tick.set_horizontalalignment(\"center\")\n",
        "    if i in [0,1]:\n",
        "        tick.set_color(bar_attrition)\n",
        "        tick.set_weight('bold')\n",
        "    if i in [8,9]:\n",
        "        tick.set_color(bar_retention)\n",
        "        tick.set_weight('bold')\n",
        "    \n",
        "ax[1].set_yticks(np.arange(10))\n",
        "ax[0].set_yticklabels(index_list,fontsize=13)\n",
        "ax[1].tick_params(axis='x', bottom=False, labelbottom=False ,direction='out')\n",
        "ax[0].tick_params(axis='x', bottom=False, labelbottom=False ,direction='out')\n",
        "ax[0].tick_params(axis='y', right=False, direction='out', pad = 53)\n",
        "ax[1].tick_params(axis='y', left=False, direction='out')\n",
        "\n",
        "for i, rect in enumerate(ax[1].patches):\n",
        "    height = rect.get_height()\n",
        "    width = rect.get_width()\n",
        "    label = f\"{100*width:.0f}%\"\n",
        "    x = rect.get_x()+ width+0.01\n",
        "    y = rect.get_y()+height/2-0.1\n",
        "    \n",
        "    if i in [0,1]:\n",
        "        ax[1].annotate(label, (x, y),color=bar_attrition,size=12, weight = 'bold')\n",
        "    elif i in [8,9]:\n",
        "        ax[1].annotate(label, (x, y),color=bar_retention,size=12, weight = 'bold')\n",
        "    else:\n",
        "        ax[1].annotate(label, (x, y),color=bar_green,size=12, weight = 'bold')\n",
        "    \n",
        "for i, rect in enumerate(ax[0].patches):\n",
        "    height = rect.get_height()\n",
        "    width = rect.get_width()\n",
        "    label = f\"{100*width:.0f}%\"\n",
        "    x = rect.get_x()+ width +0.07\n",
        "    y = rect.get_y()+height/2-0.1\n",
        "    if i in [0,1]:\n",
        "        ax[0].annotate(label, (x, y),color= bar_attrition ,size=12, weight = 'bold')\n",
        "    elif i in [8,9]:\n",
        "        ax[0].annotate(label, (x, y),color=bar_retention,size=12, weight = 'bold')\n",
        "    else:\n",
        "        ax[0].annotate(label, (x, y),color=bar_green,size=12, weight = 'bold')\n",
        "\n",
        "ax[0].annotate(\"Attrition Rate and Job Satisfaction for each department\",\n",
        "            (0.4, 11.2), size=18, color='black', annotation_clip=False, weight = 'bold')\n",
        "ax[0].annotate(\"Attrition Rate\", \n",
        "            (0.25, 10.2), size=14, color='black', annotation_clip=False, weight = 'bold')\n",
        "ax[1].annotate(\"Job Satisfaction\", \n",
        "            (0.5, 10.2), size=14, color='black', annotation_clip=False, weight = 'bold')\n",
        "\n",
        "for i, rect in enumerate(ax[0].patches):\n",
        "    if i in np.array([0,1]):\n",
        "        rect.set_color(bar_attrition)\n",
        "        rect.set_edgecolor(bar_attrition)\n",
        "        rect.set_alpha(1)\n",
        "\n",
        "for i, rect in enumerate(ax[1].patches):\n",
        "    if i in np.array([0,1]):\n",
        "        rect.set_color(bar_attrition)\n",
        "        rect.set_edgecolor(bar_attrition)\n",
        "        rect.set_alpha(1)\n",
        "\n",
        "for i, rect in enumerate(ax[0].patches):\n",
        "    if i in np.array([8,9]):\n",
        "        rect.set_color(bar_retention)\n",
        "        rect.set_edgecolor(bar_retention)\n",
        "        rect.set_alpha(1)\n",
        "\n",
        "for i, rect in enumerate(ax[1].patches):\n",
        "    if i in np.array([8,9]):\n",
        "        rect.set_color(bar_retention)\n",
        "        rect.set_edgecolor(bar_retention)\n",
        "        rect.set_alpha(1)\n",
        "        \n",
        "        \n",
        "\n",
        "\n",
        "ax[1].annotate( \"                                         has the \\nhighest average Job Satisfaction \\nand hence the lowest attrition rate\",\n",
        "            (0.82, 8.3-0.3), size=14, color='black', annotation_clip=False)\n",
        "ax[1].annotate(\"Management and R&D\",\n",
        "            (0.82, 9.2-0.3), size=14, color=bar_retention, annotation_clip=False, weight = 'bold')\n",
        "\n",
        "ax[1].annotate(\"                                   has the \\nlowest average Job Satisfaction \\nand hence the highest attrition rate\",\n",
        "            (0.82, 0.01-0.1), size=14, color='black', annotation_clip=False)\n",
        "\n",
        "ax[1].annotate(\"HR and Accounting\" ,\n",
        "            (0.82, 0.9-0.1), size=14, color=bar_attrition, annotation_clip=False, weight = 'bold')\n",
        "\n",
        "fig.subplots_adjust(wspace=0.40)\n",
        "plt.savefig('FRplot1.png')\n",
        "plt.show()"
      ],
      "execution_count": null,
      "outputs": [
        {
          "data": {
            "image/png": "[encoded data removed]",
            "text/plain": [
              "<Figure size 864x504 with 2 Axes>"
            ]
          },
          "metadata": {},
          "output_type": "display_data"
        }
      ]
    },
    {
      "cell_type": "markdown",
      "metadata": {
        "id": "JSL33kDixzxn"
      },
      "source": [
        ""
      ]
    },
    {
      "cell_type": "markdown",
      "metadata": {
        "id": "SG_mcLP2sPQg"
      },
      "source": [
        "# EDA for each Cluster"
      ]
    },
    {
      "cell_type": "code",
      "metadata": {
        "id": "c-N9tOKxsPQg"
      },
      "source": [
        "df_hr1 = df_hr.copy()"
      ],
      "execution_count": null,
      "outputs": []
    },
    {
      "cell_type": "code",
      "metadata": {
        "id": "qhc-yl7isPQg"
      },
      "source": [
        "df_hr1['average_montly_hours'] = (df_hr1['average_montly_hours']-df_hr1['average_montly_hours'].min())/(df_hr1['average_montly_hours'].max()-df_hr1['average_montly_hours'].min())\n"
      ],
      "execution_count": null,
      "outputs": []
    },
    {
      "cell_type": "markdown",
      "metadata": {
        "id": "H8geOqHmsPQh"
      },
      "source": [
        "## Clusters"
      ]
    },
    {
      "cell_type": "code",
      "metadata": {
        "id": "0AJB5wHZsPQh"
      },
      "source": [
        "df_cluster1 = df_hr1[( (df_hr1['satisfaction_level']<0.15)) \n",
        "      & ((df_hr1['average_montly_hours']>0.63))& (df_hr1['left']==1)]\n",
        "df_cluster2 = df_hr1[((df_hr1['satisfaction_level']>0.35) & (df_hr1['satisfaction_level']<0.45)) \n",
        "      & ((df_hr1['average_montly_hours']>0.1) & (df_hr1['average_montly_hours']<0.35))& (df_hr1['left']==1)]\n",
        "df_cluster3 = df_hr1[((df_hr1['satisfaction_level']>0.69) & (df_hr1['satisfaction_level']<0.91)) \n",
        "      & ((df_hr1['average_montly_hours']>0.59) & (df_hr1['average_montly_hours']<0.84))& (df_hr1['left']==1)]"
      ],
      "execution_count": null,
      "outputs": []
    },
    {
      "cell_type": "markdown",
      "metadata": {
        "id": "rPVpjFzYsPQh"
      },
      "source": [
        "### Cluster 1"
      ]
    },
    {
      "cell_type": "code",
      "metadata": {
        "id": "5NjUCBYYsPQh"
      },
      "source": [
        "A = df_cluster1['Department'].value_counts()/sum(df_cluster1['Department'].value_counts())*100\n",
        "A =A.sort_values()"
      ],
      "execution_count": null,
      "outputs": []
    },
    {
      "cell_type": "code",
      "metadata": {
        "scrolled": true,
        "id": "Lfdz3tb7sPQi",
        "outputId": "417de8ad-1354-4ae1-da47-fe213392497f"
      },
      "source": [
        "fig, ax = plt.subplots(figsize = (6,4))\n",
        "\n",
        "ax.barh(A[4:10].index, A[4:10], color = COLORS[0], alpha = 0.6) #cluster1color\n",
        "\n",
        "ax.spines['left'].set_visible(False)\n",
        "ax.spines['right'].set_visible(False)\n",
        "ax.spines['bottom'].set_visible(False)\n",
        "ax.spines['top'].set_visible(False)\n",
        "\n",
        "ax.set_yticks(np.arange(6))\n",
        "ax.set_yticklabels(A[4:10].index,fontsize=13, color='black')\n",
        "ax.tick_params(axis='x', bottom=False, labelbottom=False ,direction='out')\n",
        "ax.tick_params(axis='x', bottom=False, labelbottom=False ,direction='out')\n",
        "ax.tick_params(axis='y', right=False, direction='out', pad = 24)\n",
        "ax.tick_params(axis='y', left=False, direction='out')\n",
        "\n",
        "for i, rect in enumerate(ax.patches):\n",
        "    height = rect.get_height()\n",
        "    width = rect.get_width()\n",
        "    label = f\"{width:.0f}%\"\n",
        "    x = rect.get_x()+ width+0.3\n",
        "    y = rect.get_y()+height/2-0.1\n",
        "    ax.annotate(label, (x, y),color=COLORS[0],size=12, weight = 'bold')\n",
        "\n",
        "plt.show()"
      ],
      "execution_count": null,
      "outputs": [
        {
          "data": {
            "image/png": "[encoded data removed]",
            "text/plain": [
              "<Figure size 432x288 with 1 Axes>"
            ]
          },
          "metadata": {
            "needs_background": "light"
          },
          "output_type": "display_data"
        }
      ]
    },
    {
      "cell_type": "code",
      "metadata": {
        "id": "GW8rYe3tsPQi",
        "outputId": "c3e1ecf0-d479-4e96-c9ae-fe359adbe058"
      },
      "source": [
        "df_cluster1['number_project'].value_counts()/sum(df_cluster1['number_project'].value_counts())"
      ],
      "execution_count": null,
      "outputs": [
        {
          "data": {
            "text/plain": [
              "6    0.682022\n",
              "7    0.266292\n",
              "5    0.041573\n",
              "4    0.003371\n",
              "3    0.003371\n",
              "2    0.003371\n",
              "Name: number_project, dtype: float64"
            ]
          },
          "execution_count": 1078,
          "metadata": {},
          "output_type": "execute_result"
        }
      ]
    },
    {
      "cell_type": "code",
      "metadata": {
        "id": "to_MxoxCsPQi",
        "outputId": "5dd33d11-848f-4194-f471-5cb31e6a862a"
      },
      "source": [
        "df_cluster1['salary'].value_counts()/sum(df_cluster1['salary'].value_counts())"
      ],
      "execution_count": null,
      "outputs": [
        {
          "data": {
            "text/plain": [
              "low       0.593258\n",
              "medium    0.389888\n",
              "high      0.016854\n",
              "Name: salary, dtype: float64"
            ]
          },
          "execution_count": 1079,
          "metadata": {},
          "output_type": "execute_result"
        }
      ]
    },
    {
      "cell_type": "markdown",
      "metadata": {
        "id": "7Tv5RAZPsPQj"
      },
      "source": [
        "### Cluster 2"
      ]
    },
    {
      "cell_type": "code",
      "metadata": {
        "id": "gpn_KgQJsPQj",
        "outputId": "f5a3ed32-6597-4cd4-d120-a908fcba9a3e"
      },
      "source": [
        "B = df_cluster2['Department'].value_counts()/sum(df_cluster2['Department'].value_counts())*100\n",
        "B =B.sort_values()\n",
        "B"
      ],
      "execution_count": null,
      "outputs": [
        {
          "data": {
            "text/plain": [
              "Management                   2.380952\n",
              "Research & \\nDevelopment     2.688172\n",
              "Product \\nManagement         5.606759\n",
              "Accounting                   6.067588\n",
              "Marketing                    6.451613\n",
              "Information \\nTechnology     7.296467\n",
              "Human \\nResources            7.373272\n",
              "Support                     16.205837\n",
              "Technical                   16.743472\n",
              "Sales                       29.185868\n",
              "Name: Department, dtype: float64"
            ]
          },
          "execution_count": 1080,
          "metadata": {},
          "output_type": "execute_result"
        }
      ]
    },
    {
      "cell_type": "code",
      "metadata": {
        "id": "__Kd1YxrsPQj",
        "outputId": "80ebcde6-5b61-49b3-eab5-35098d9ed682"
      },
      "source": [
        "fig, ax = plt.subplots(figsize = (6,4))\n",
        "\n",
        "ax.barh(B[4:10].index, B[4:10], color = COLORS[1], alpha = 0.6) #cluster1color\n",
        "\n",
        "ax.spines['left'].set_visible(False)\n",
        "ax.spines['right'].set_visible(False)\n",
        "ax.spines['bottom'].set_visible(False)\n",
        "ax.spines['top'].set_visible(False)\n",
        "\n",
        "ax.set_yticks(np.arange(6))\n",
        "ax.set_yticklabels(B[4:10].index,fontsize=13, color='black')\n",
        "ax.tick_params(axis='x', bottom=False, labelbottom=False ,direction='out')\n",
        "ax.tick_params(axis='x', bottom=False, labelbottom=False ,direction='out')\n",
        "ax.tick_params(axis='y', right=False, direction='out', pad = 24)\n",
        "ax.tick_params(axis='y', left=False, direction='out')\n",
        "\n",
        "for i, rect in enumerate(ax.patches):\n",
        "    height = rect.get_height()\n",
        "    width = rect.get_width()\n",
        "    label = f\"{width:.0f}%\"\n",
        "    x = rect.get_x()+ width+0.3\n",
        "    y = rect.get_y()+height/2-0.1\n",
        "    ax.annotate(label, (x, y), color = COLORS[1], size=12, weight = 'bold')\n",
        "\n",
        "plt.show()"
      ],
      "execution_count": null,
      "outputs": [
        {
          "data": {
            "image/png": "[encoded data removed]",
            "text/plain": [
              "<Figure size 432x288 with 1 Axes>"
            ]
          },
          "metadata": {
            "needs_background": "light"
          },
          "output_type": "display_data"
        }
      ]
    },
    {
      "cell_type": "code",
      "metadata": {
        "id": "nZeSGYUjsPQj",
        "outputId": "2d524ff8-e9d1-4513-b7c9-04b58acab372"
      },
      "source": [
        "df_cluster2['number_project'].value_counts()/sum(df_cluster2['number_project'].value_counts())"
      ],
      "execution_count": null,
      "outputs": [
        {
          "data": {
            "text/plain": [
              "2    0.994624\n",
              "6    0.003072\n",
              "5    0.000768\n",
              "4    0.000768\n",
              "3    0.000768\n",
              "Name: number_project, dtype: float64"
            ]
          },
          "execution_count": 1082,
          "metadata": {},
          "output_type": "execute_result"
        }
      ]
    },
    {
      "cell_type": "code",
      "metadata": {
        "id": "C3po_LA6sPQk",
        "outputId": "4eb0b513-05db-4b8e-cef0-31247a6b8b65"
      },
      "source": [
        "df_cluster2['number_project'].value_counts()"
      ],
      "execution_count": null,
      "outputs": [
        {
          "data": {
            "text/plain": [
              "2    1295\n",
              "6       4\n",
              "5       1\n",
              "4       1\n",
              "3       1\n",
              "Name: number_project, dtype: int64"
            ]
          },
          "execution_count": 1083,
          "metadata": {},
          "output_type": "execute_result"
        }
      ]
    },
    {
      "cell_type": "code",
      "metadata": {
        "id": "vQs9DHWksPQk",
        "outputId": "d9f0682c-a5e6-40bc-c84e-be7cd05bfb4c"
      },
      "source": [
        "df_cluster2['time_spend_company'].value_counts()"
      ],
      "execution_count": null,
      "outputs": [
        {
          "data": {
            "text/plain": [
              "3    1293\n",
              "4       6\n",
              "6       3\n",
              "Name: time_spend_company, dtype: int64"
            ]
          },
          "execution_count": 1084,
          "metadata": {},
          "output_type": "execute_result"
        }
      ]
    },
    {
      "cell_type": "markdown",
      "metadata": {
        "id": "XedYLTvcsPQk"
      },
      "source": [
        "### Cluster 3"
      ]
    },
    {
      "cell_type": "code",
      "metadata": {
        "id": "ZEEOEdXSsPQk",
        "outputId": "b0453f19-24c6-4001-b25a-d143e687ba15"
      },
      "source": [
        "C = 100*df_cluster3['Department'].value_counts()/sum(df_cluster3['Department'].value_counts())\n",
        "C =C.sort_values(ascending = True)\n",
        "C"
      ],
      "execution_count": null,
      "outputs": [
        {
          "data": {
            "text/plain": [
              "Management                   2.695418\n",
              "Human \\nResources            4.043127\n",
              "Research & \\nDevelopment     4.043127\n",
              "Accounting                   4.851752\n",
              "Marketing                    6.738544\n",
              "Product \\nManagement         6.873315\n",
              "Information \\nTechnology     7.412399\n",
              "Support                     16.172507\n",
              "Technical                   17.520216\n",
              "Sales                       29.649596\n",
              "Name: Department, dtype: float64"
            ]
          },
          "execution_count": 1085,
          "metadata": {},
          "output_type": "execute_result"
        }
      ]
    },
    {
      "cell_type": "code",
      "metadata": {
        "id": "FKdxgRrQsPQk",
        "outputId": "0ebda3f2-493c-4ac8-c273-3ead84ad3f74"
      },
      "source": [
        "fig, ax = plt.subplots(figsize = (6,4))\n",
        "\n",
        "ax.barh(C[4:10].index, C[4:10], color  = COLORS[2], alpha = 0.6) #cluster1color\n",
        "\n",
        "ax.spines['left'].set_visible(False)\n",
        "ax.spines['right'].set_visible(False)\n",
        "ax.spines['bottom'].set_visible(False)\n",
        "ax.spines['top'].set_visible(False)\n",
        "\n",
        "ax.set_yticks(np.arange(6))\n",
        "ax.set_yticklabels(C[4:10].index,fontsize=13, color='black')\n",
        "ax.tick_params(axis='x', bottom=False, labelbottom=False ,direction='out')\n",
        "ax.tick_params(axis='x', bottom=False, labelbottom=False ,direction='out')\n",
        "ax.tick_params(axis='y', right=False, direction='out', pad = 24)\n",
        "ax.tick_params(axis='y', left=False, direction='out')\n",
        "\n",
        "for i, rect in enumerate(ax.patches):\n",
        "    height = rect.get_height()\n",
        "    width = rect.get_width()\n",
        "    label = f\"{width:.0f}%\"\n",
        "    x = rect.get_x()+ width+0.04\n",
        "    y = rect.get_y()+height/2-0.1\n",
        "    ax.annotate(label, (x, y),color = COLORS[2], size=12, weight = 'bold')\n",
        "\n",
        "plt.show()"
      ],
      "execution_count": null,
      "outputs": [
        {
          "data": {
            "image/png": "[encoded data removed]",
            "text/plain": [
              "<Figure size 432x288 with 1 Axes>"
            ]
          },
          "metadata": {
            "needs_background": "light"
          },
          "output_type": "display_data"
        }
      ]
    },
    {
      "cell_type": "code",
      "metadata": {
        "id": "hNUCZOC9sPQl",
        "outputId": "3e70fe44-6f8e-4132-bb4e-e9b1f1a9a543"
      },
      "source": [
        "df_cluster3['number_project'].value_counts()/sum(df_cluster3['number_project'].value_counts())"
      ],
      "execution_count": null,
      "outputs": [
        {
          "data": {
            "text/plain": [
              "5    0.597035\n",
              "4    0.382749\n",
              "3    0.013477\n",
              "2    0.005391\n",
              "6    0.001348\n",
              "Name: number_project, dtype: float64"
            ]
          },
          "execution_count": 1087,
          "metadata": {},
          "output_type": "execute_result"
        }
      ]
    },
    {
      "cell_type": "code",
      "metadata": {
        "id": "beW2qEjNsPQl",
        "outputId": "e67a99d8-d7a2-4ddd-e396-2010d7f16005"
      },
      "source": [
        "df_cluster3['salary'].value_counts()/sum(df_cluster3['salary'].value_counts())"
      ],
      "execution_count": null,
      "outputs": [
        {
          "data": {
            "text/plain": [
              "low       0.595687\n",
              "medium    0.385445\n",
              "high      0.018868\n",
              "Name: salary, dtype: float64"
            ]
          },
          "execution_count": 1088,
          "metadata": {},
          "output_type": "execute_result"
        }
      ]
    },
    {
      "cell_type": "code",
      "metadata": {
        "id": "2DMucaN0sPQl",
        "outputId": "f15c4e06-82c8-4608-9551-af8cc9bda3db"
      },
      "source": [
        "df_cluster1['average_montly_hours'].mean(), df_cluster2['average_montly_hours'].mean(), df_cluster3['average_montly_hours'].mean()"
      ],
      "execution_count": null,
      "outputs": [
        {
          "data": {
            "text/plain": [
              "(0.8470282474010282, 0.22224973800192313, 0.713076554903394)"
            ]
          },
          "execution_count": 1089,
          "metadata": {},
          "output_type": "execute_result"
        }
      ]
    },
    {
      "cell_type": "markdown",
      "metadata": {
        "id": "2MotVFFqsPQm"
      },
      "source": [
        "## Spider Plot Preparation"
      ]
    },
    {
      "cell_type": "code",
      "metadata": {
        "id": "PfEiACh8sPQm"
      },
      "source": [
        "avg_c1 = df_cluster1.copy()\n",
        "\n",
        "#avg_c1['number_project'] = (avg_c1['number_project']-avg_c1['number_project'].min())/(avg_c1['number_project'].max()-avg_c1['number_project'].min())\n",
        "avg_c1['number_project'] = avg_c1['number_project']/10.0\n",
        "#avg_c1['average_montly_hours'] = (avg_c1['average_montly_hours']-avg_c1['average_montly_hours'].min())/(avg_c1['average_montly_hours'].max()-avg_c1['average_montly_hours'].min())\n",
        "avg_c1['promotion_last_5years'] = sum(df_cluster1['promotion_last_5years'])/len(df_cluster1)\n",
        "avg_c1['salary1'] = avg_c1['salary']\n",
        "salary = {\"salary1\":{\"low\": 0.333, \"medium\": 0.66666, \"high\": 0.99999}}\n",
        "avg_c1 = avg_c1.replace(salary)\n",
        "#avg_c1['salary1'] =(avg_c1['salary1']-avg_c1['salary1'].min())/(avg_c1['salary1'].max()-avg_c1['salary1'].min())\n"
      ],
      "execution_count": null,
      "outputs": []
    },
    {
      "cell_type": "code",
      "metadata": {
        "id": "2YadVNMysPQm"
      },
      "source": [
        "avg_c2 = df_cluster2.copy()\n",
        "#avg_c2['number_project'] = (avg_c2['number_project']-avg_c2['number_project'].min())/(avg_c2['number_project'].max()-avg_c2['number_project'].min())\n",
        "avg_c2['number_project'] = avg_c2['number_project']/10.0\n",
        "#avg_c2['average_montly_hours'] = (avg_c2['average_montly_hours']-avg_c2['average_montly_hours'].min())/(avg_c2['average_montly_hours'].max()-avg_c2['average_montly_hours'].min())\n",
        "avg_c2['promotion_last_5years'] = sum(df_cluster2['promotion_last_5years'])/len(df_cluster2)\n",
        "avg_c2['salary1'] = avg_c2['salary']\n",
        "salary = {\"salary1\":{\"low\": 0.333, \"medium\": 0.66666, \"high\": 0.99999}}\n",
        "avg_c2 = avg_c2.replace(salary)\n",
        "#avg_c1['salary1'] =(avg_c1['salary1']-avg_c1['salary1'].min())/(avg_c1['salary1'].max()-avg_c1['salary1'].min())\n"
      ],
      "execution_count": null,
      "outputs": []
    },
    {
      "cell_type": "code",
      "metadata": {
        "id": "ZfuI_zy_sPQm",
        "outputId": "88dba627-d02c-49ff-dc10-bdb79633258d"
      },
      "source": [
        "avg_c2['number_project']"
      ],
      "execution_count": null,
      "outputs": [
        {
          "data": {
            "text/plain": [
              "0        0.2\n",
              "4        0.2\n",
              "5        0.2\n",
              "9        0.2\n",
              "13       0.2\n",
              "        ... \n",
              "14992    0.2\n",
              "14994    0.2\n",
              "14995    0.2\n",
              "14996    0.2\n",
              "14998    0.2\n",
              "Name: number_project, Length: 1302, dtype: float64"
            ]
          },
          "execution_count": 1092,
          "metadata": {},
          "output_type": "execute_result"
        }
      ]
    },
    {
      "cell_type": "code",
      "metadata": {
        "id": "hJKNmUaHsPQn"
      },
      "source": [
        "avg_c3 = df_cluster3.copy()\n",
        "#avg_c3['number_project'] = (avg_c3['number_project']-avg_c3['number_project'].min())/(avg_c3['number_project'].max()-avg_c3['number_project'].min())\n",
        "avg_c3['number_project'] = avg_c3['number_project']/10.0\n",
        "#avg_c3['average_montly_hours'] = (avg_c3['average_montly_hours']-avg_c3['average_montly_hours'].min())/(avg_c3['average_montly_hours'].max()-avg_c3['average_montly_hours'].min())\n",
        "avg_c3['promotion_last_5years'] = sum(df_cluster3['promotion_last_5years'])/len(df_cluster3)\n",
        "avg_c3['salary1'] = avg_c3['salary']\n",
        "salary = {\"salary1\":{\"low\": 0.333, \"medium\": 0.66666, \"high\": 0.99999}}\n",
        "avg_c3 = avg_c3.replace(salary)\n",
        "#avg_c1['salary1'] =(avg_c1['salary1']-avg_c1['salary1'].min())/(avg_c1['salary1'].max()-avg_c1['salary1'].min())\n"
      ],
      "execution_count": null,
      "outputs": []
    },
    {
      "cell_type": "code",
      "metadata": {
        "id": "WgMg27B0sPQn",
        "outputId": "5947b2a0-a8c9-4120-bf84-2f1c0261ecf1"
      },
      "source": [
        "avg_c3.head()"
      ],
      "execution_count": null,
      "outputs": [
        {
          "data": {
            "text/html": [
              "<div>\n",
              "<style scoped>\n",
              "    .dataframe tbody tr th:only-of-type {\n",
              "        vertical-align: middle;\n",
              "    }\n",
              "\n",
              "    .dataframe tbody tr th {\n",
              "        vertical-align: top;\n",
              "    }\n",
              "\n",
              "    .dataframe thead th {\n",
              "        text-align: right;\n",
              "    }\n",
              "</style>\n",
              "<table border=\"1\" class=\"dataframe\">\n",
              "  <thead>\n",
              "    <tr style=\"text-align: right;\">\n",
              "      <th></th>\n",
              "      <th>Emp_Id</th>\n",
              "      <th>satisfaction_level</th>\n",
              "      <th>last_evaluation</th>\n",
              "      <th>number_project</th>\n",
              "      <th>average_montly_hours</th>\n",
              "      <th>time_spend_company</th>\n",
              "      <th>Work_accident</th>\n",
              "      <th>left</th>\n",
              "      <th>promotion_last_5years</th>\n",
              "      <th>Department</th>\n",
              "      <th>salary</th>\n",
              "      <th>salary1</th>\n",
              "    </tr>\n",
              "  </thead>\n",
              "  <tbody>\n",
              "    <tr>\n",
              "      <th>1</th>\n",
              "      <td>IND28133</td>\n",
              "      <td>0.80</td>\n",
              "      <td>0.86</td>\n",
              "      <td>0.5</td>\n",
              "      <td>0.775701</td>\n",
              "      <td>6</td>\n",
              "      <td>0</td>\n",
              "      <td>1</td>\n",
              "      <td>0.001348</td>\n",
              "      <td>Sales</td>\n",
              "      <td>medium</td>\n",
              "      <td>0.66666</td>\n",
              "    </tr>\n",
              "    <tr>\n",
              "      <th>3</th>\n",
              "      <td>IND30478</td>\n",
              "      <td>0.72</td>\n",
              "      <td>0.87</td>\n",
              "      <td>0.5</td>\n",
              "      <td>0.593458</td>\n",
              "      <td>5</td>\n",
              "      <td>0</td>\n",
              "      <td>1</td>\n",
              "      <td>0.001348</td>\n",
              "      <td>Sales</td>\n",
              "      <td>low</td>\n",
              "      <td>0.33300</td>\n",
              "    </tr>\n",
              "    <tr>\n",
              "      <th>8</th>\n",
              "      <td>IND27336</td>\n",
              "      <td>0.89</td>\n",
              "      <td>1.00</td>\n",
              "      <td>0.5</td>\n",
              "      <td>0.598131</td>\n",
              "      <td>5</td>\n",
              "      <td>0</td>\n",
              "      <td>1</td>\n",
              "      <td>0.001348</td>\n",
              "      <td>Sales</td>\n",
              "      <td>low</td>\n",
              "      <td>0.33300</td>\n",
              "    </tr>\n",
              "    <tr>\n",
              "      <th>12</th>\n",
              "      <td>IND13556</td>\n",
              "      <td>0.84</td>\n",
              "      <td>0.92</td>\n",
              "      <td>0.4</td>\n",
              "      <td>0.644860</td>\n",
              "      <td>5</td>\n",
              "      <td>0</td>\n",
              "      <td>1</td>\n",
              "      <td>0.001348</td>\n",
              "      <td>Sales</td>\n",
              "      <td>low</td>\n",
              "      <td>0.33300</td>\n",
              "    </tr>\n",
              "    <tr>\n",
              "      <th>17</th>\n",
              "      <td>IND21424</td>\n",
              "      <td>0.78</td>\n",
              "      <td>0.99</td>\n",
              "      <td>0.4</td>\n",
              "      <td>0.742991</td>\n",
              "      <td>6</td>\n",
              "      <td>0</td>\n",
              "      <td>1</td>\n",
              "      <td>0.001348</td>\n",
              "      <td>Sales</td>\n",
              "      <td>low</td>\n",
              "      <td>0.33300</td>\n",
              "    </tr>\n",
              "  </tbody>\n",
              "</table>\n",
              "</div>"
            ],
            "text/plain": [
              "      Emp_Id  satisfaction_level  last_evaluation  number_project  \\\n",
              "1   IND28133                0.80             0.86             0.5   \n",
              "3   IND30478                0.72             0.87             0.5   \n",
              "8   IND27336                0.89             1.00             0.5   \n",
              "12  IND13556                0.84             0.92             0.4   \n",
              "17  IND21424                0.78             0.99             0.4   \n",
              "\n",
              "    average_montly_hours  time_spend_company  Work_accident  left  \\\n",
              "1               0.775701                   6              0     1   \n",
              "3               0.593458                   5              0     1   \n",
              "8               0.598131                   5              0     1   \n",
              "12              0.644860                   5              0     1   \n",
              "17              0.742991                   6              0     1   \n",
              "\n",
              "    promotion_last_5years Department  salary  salary1  \n",
              "1                0.001348      Sales  medium  0.66666  \n",
              "3                0.001348      Sales     low  0.33300  \n",
              "8                0.001348      Sales     low  0.33300  \n",
              "12               0.001348      Sales     low  0.33300  \n",
              "17               0.001348      Sales     low  0.33300  "
            ]
          },
          "execution_count": 1094,
          "metadata": {},
          "output_type": "execute_result"
        }
      ]
    },
    {
      "cell_type": "markdown",
      "metadata": {
        "id": "jmuTFrx8sPQn"
      },
      "source": [
        "## Figure 8: Detailed analysis of the clusters with high attrition"
      ]
    },
    {
      "cell_type": "code",
      "metadata": {
        "id": "T526CdF_sPQn"
      },
      "source": [
        "avg_c1_final = avg_c1[['satisfaction_level', 'last_evaluation', 'number_project', 'average_montly_hours',  'salary1']].mean()\n",
        "avg_c2_final = avg_c2[['satisfaction_level', 'last_evaluation', 'number_project', 'average_montly_hours',  'salary1']].mean()\n",
        "avg_c3_final = avg_c3[['satisfaction_level', 'last_evaluation', 'number_project', 'average_montly_hours', 'salary1']].mean()"
      ],
      "execution_count": null,
      "outputs": []
    },
    {
      "cell_type": "code",
      "metadata": {
        "id": "GtKMtVdysPQn"
      },
      "source": [
        "c1_radarlist = list(avg_c1_final)\n",
        "c1_radarlist = c1_radarlist + c1_radarlist[:1]\n",
        "\n",
        "c2_radarlist = list(avg_c2_final)\n",
        "c2_radarlist = c2_radarlist + c2_radarlist[:1]\n",
        "\n",
        "c3_radarlist = list(avg_c3_final)\n",
        "c3_radarlist = c3_radarlist + c3_radarlist[:1]\n",
        "\n"
      ],
      "execution_count": null,
      "outputs": []
    },
    {
      "cell_type": "code",
      "metadata": {
        "id": "SY_lFnCOsPQo",
        "outputId": "42432067-8143-4229-d87e-7a30e80a183d"
      },
      "source": [
        "import math\n",
        "fig = plt.figure(figsize=(20, 8))\n",
        "ax = fig.add_subplot(polar=True)\n",
        "\n",
        "fig.patch.set_facecolor('white') #BGCOLOR\n",
        "ax.set_facecolor(BGCOLOR)\n",
        "\n",
        "\n",
        "categories = ['Satisfaction Level', 'Last Evaluation', 'Number of \\nProjects', \n",
        "              'Average Montly \\nHours', 'Salary']\n",
        "N_Cat = len(categories)\n",
        "\n",
        "angles = [n/N_Cat*2*math.pi for n in range(N_Cat)]\n",
        "\n",
        "angles += angles[:1]\n",
        "\n",
        "ax.grid(alpha=0.9)\n",
        "ax.set_theta_offset(np.pi/2)\n",
        "ax.set_theta_direction(-1)\n",
        "\n",
        "\n",
        "\n",
        "ax.plot(angles, c1_radarlist, c=COLORS[0], label='cluster 1',alpha=c1_alpha,  linewidth=2)\n",
        "ax.fill(angles, c1_radarlist, c=COLORS[0], alpha=c1_alpha)\n",
        "ax.scatter(angles, c1_radarlist, s=70, c=COLORS[0], zorder=10, alpha=c1_alpha)\n",
        "\n",
        "ax.plot(angles, c2_radarlist, c=COLORS[1], label='cluster 2', alpha=c2_alpha, linewidth=2)\n",
        "ax.fill(angles, c2_radarlist, c=COLORS[1], alpha=c2_alpha)\n",
        "ax.scatter(angles, c2_radarlist, s=70, c=COLORS[1], zorder=10, alpha=c2_alpha)\n",
        "\n",
        "ax.plot(angles, c3_radarlist, c=COLORS[2], label='cluster 3', alpha=c3_alpha, linewidth=2)\n",
        "ax.fill(angles, c3_radarlist, c=COLORS[2], alpha=c3_alpha)\n",
        "ax.scatter(angles, c3_radarlist, s=70, c=COLORS[2], zorder=10, alpha=c3_alpha)\n",
        "\n",
        "ax.set_xticks(angles[:-1])\n",
        "ax.set_xticklabels(categories, size=13, color = '#1f1e1e')\n",
        "\n",
        "\n",
        "#ax.hlines(0, 0, 5)\n",
        "\n",
        "ax.set_yticks([0.2, 0.4, 0.6, 0.8, 1])\n",
        "ax.xaxis.grid(True)\n",
        "ax.yaxis.grid(True)\n",
        "ax.set_ylim(0, 1)\n",
        "\n",
        "\n",
        "ax.tick_params(axis='y', bottom=False, labelbottom=False )\n",
        "\n",
        "for x,y in zip([np.pi/2]*6, [ 0.2, 0.4, 0.6, 0.8, 1]):\n",
        "    label = y\n",
        "    ax.annotate(label, (x, y),color='black',size=12)\n",
        "\n",
        "# ax.spines[\"start\"].set_color(\"none\")\n",
        "# ax.spines[\"polar\"].set_color(\"none\")\n",
        "\n",
        "plt.setp(ax.yaxis.get_ticklabels(), visible=False)\n",
        "XTICKS = ax.xaxis.get_major_ticks()   \n",
        "XTICKS[1].set_pad(47)\n",
        "XTICKS[2].set_pad(31)\n",
        "XTICKS[3].set_pad(35)\n",
        "XTICKS[4].set_pad(20)\n",
        "\n",
        "\n",
        "\n",
        "x1 = 0.71; y1 = 0.85\n",
        "\n",
        "\n",
        "ax.annotate('Cluster 1', (x1, y1), (x1, y1),textcoords='figure fraction', color=COLORS[0], \n",
        "            size=13, verticalalignment='center',annotation_clip=False, weight = 'bold')\n",
        "ax.annotate('\\u2022 Low job satisfaction', (x, y),(x1, y1-0.03),textcoords='figure fraction', color=COLORS[0], \n",
        "            size=13, verticalalignment='center',annotation_clip=False, weight = 'bold')\n",
        "ax.annotate('\\u2022 Long working hours', (x, y),(x1, y1-0.06),textcoords='figure fraction', color=COLORS[0], \n",
        "            size=13, verticalalignment='center',annotation_clip=False, weight = 'bold')\n",
        "ax.annotate('\\u2022 working on more projects', (x, y),(x1, y1-0.09),textcoords='figure fraction', color=COLORS[0], \n",
        "            size=13, verticalalignment='center',annotation_clip=False, weight = 'bold')\n",
        "\n",
        "\n",
        "y2 = 0.3\n",
        "ax.annotate('Cluster 2', (x1, y1), (x1, y1-y2),textcoords='figure fraction', color=COLORS[1], \n",
        "            size=13, verticalalignment='center',annotation_clip=False, weight = 'bold')\n",
        "ax.annotate('\\u2022 Average Job Satisfaction', (x, y),(x1, y1-0.03-y2),textcoords='figure fraction', color=COLORS[1], \n",
        "            size=13, verticalalignment='center',annotation_clip=False, weight = 'bold')\n",
        "ax.annotate('\\u2022 less working hours', (x, y),(x1, y1-0.06-y2),textcoords='figure fraction', color=COLORS[1], \n",
        "            size=13, verticalalignment='center',annotation_clip=False, weight = 'bold')\n",
        "ax.annotate('\\u2022 working on few projects', (x, y),(x1, y1-0.09-y2),textcoords='figure fraction', color=COLORS[1], \n",
        "            size=13, verticalalignment='center',annotation_clip=False, weight = 'bold')\n",
        "#                     arrowprops=dict(arrowstyle='-', color='r'),\n",
        "\n",
        "\n",
        "ax.annotate('Cluster 3', (x1, y1), (x1, y1-2*y2),textcoords='figure fraction', color=COLORS[2], \n",
        "            size=13, verticalalignment='center',annotation_clip=False, weight = 'bold')\n",
        "ax.annotate('\\u2022 High Job Satisfaction', (x, y),(x1, y1-0.03-2*y2),textcoords='figure fraction', color=COLORS[2], \n",
        "            size=13, verticalalignment='center',annotation_clip=False, weight = 'bold')\n",
        "ax.annotate('\\u2022 Average working hours', (x, y),(x1, y1-0.06-2*y2),textcoords='figure fraction', color=COLORS[2], \n",
        "            size=13, verticalalignment='center',annotation_clip=False, weight = 'bold')\n",
        "ax.annotate('\\u2022 Average no. of projects', (x, y),(x1, y1-0.09-2*y2),textcoords='figure fraction', color=COLORS[2], \n",
        "            size=13, verticalalignment='center',annotation_clip=False, weight = 'bold')\n",
        "#                     arrowprops=dict(arrowstyle='-', color='r'),                    \n",
        "\n",
        "\n",
        "a,b =(535,365)\n",
        "p1 = fig.patches.extend([plt.Rectangle(xy=(a,b),  # point of origin.\n",
        "        width= 213,\n",
        "        height= 80,\n",
        "        linewidth=2.,\n",
        "        edgecolor=COLORS[0],\n",
        "        facecolor = COLORS[0],\n",
        "        alpha=0.2,\n",
        "        clip_on=False)])\n",
        "\n",
        "p2 = fig.patches.extend([plt.Rectangle((a,b-149),  # point of origin.\n",
        "        width= 213,\n",
        "        height= 80,\n",
        "        linewidth=2.,\n",
        "        edgecolor=COLORS[1],\n",
        "        facecolor = COLORS[1],\n",
        "        alpha=0.2,\n",
        "        clip_on=False)])\n",
        "\n",
        "p3 = fig.patches.extend([plt.Rectangle((a,b-2*150),  # point of origin.\n",
        "        width= 213,\n",
        "        height= 80,\n",
        "        linewidth=2.,\n",
        "        edgecolor=COLORS[2],\n",
        "        facecolor = COLORS[2],\n",
        "        alpha=0.2,\n",
        "        clip_on=False)])\n",
        "\n",
        "\n",
        "import matplotlib.patches as mpatches\n",
        "\n",
        "\n",
        "C1_patch = mpatches.Patch(color=COLORS[0], label='Cluster 1', alpha = 0.5)\n",
        "C2_patch = mpatches.Patch(color= COLORS[1], label='Cluster 2',  alpha = 0.9)\n",
        "C3_patch = mpatches.Patch(color=COLORS[2], label='Cluster 3',  alpha = 0.5)\n",
        "#plt.legend(bbox_to_anchor=(1.05, 1.05), handles=[C1_patch, C2_patch, C3_patch], prop={'size': 13, 'weight': 'bold'})\n",
        "\n",
        "ax.annotate('Cluster Analysis of Attrition groups',(-0.8, 1.699), color=heading, \n",
        "            size=16, verticalalignment='center',annotation_clip=False, weight = 'bold')\n",
        "\n",
        "\n",
        "plt.show()"
      ],
      "execution_count": null,
      "outputs": [
        {
          "data": {
            "image/png": "[encoded data removed]",
            "text/plain": [
              "<Figure size 1440x576 with 1 Axes>"
            ]
          },
          "metadata": {},
          "output_type": "display_data"
        }
      ]
    },
    {
      "cell_type": "markdown",
      "metadata": {
        "id": "LnzBK1GisPQo"
      },
      "source": [
        "### Note: For this spiderplot, the basic template has been referred from python graph gallery"
      ]
    },
    {
      "cell_type": "code",
      "metadata": {
        "id": "zjcpGd-9sPQo"
      },
      "source": [
        ""
      ],
      "execution_count": null,
      "outputs": []
    }
  ]
}